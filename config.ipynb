{
 "cells": [
  {
   "cell_type": "code",
   "execution_count": 1,
   "metadata": {},
   "outputs": [],
   "source": [
    "consumer_key = \"UXHiZUEoHluKSd0jgJL9lyff2\"\n",
    "consumer_secret = \"7NsMRlybOYKjb2SGwxaD6vRDEAPmU4W2erWrxosxen5PdHJyRx\"\n",
    "access_token = \"1208884095792680961-opwShaDBsBHm1i2PWmi7TslqJJv7eQ\"\n",
    "access_token_secret = \"7hpB2Q7KA3zWS2EOoMzYGFn5Ml3BuUXKR9usJXRtOhFdh\""
   ]
  },
  {
   "cell_type": "code",
   "execution_count": null,
   "metadata": {},
   "outputs": [],
   "source": []
  }
 ],
 "metadata": {
  "kernelspec": {
   "display_name": "Python 3",
   "language": "python",
   "name": "python3"
  },
  "language_info": {
   "codemirror_mode": {
    "name": "ipython",
    "version": 3
   },
   "file_extension": ".py",
   "mimetype": "text/x-python",
   "name": "python",
   "nbconvert_exporter": "python",
   "pygments_lexer": "ipython3",
   "version": "3.7.3"
  }
 },
 "nbformat": 4,
 "nbformat_minor": 2
}
